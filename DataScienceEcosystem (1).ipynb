{
 "cells": [
  {
   "cell_type": "markdown",
   "id": "f6f43694",
   "metadata": {},
   "source": [
    "# Data Science Tools & Ecosystem"
   ]
  },
  {
   "cell_type": "markdown",
   "id": "45a67007",
   "metadata": {},
   "source": [
    "In this notebook, Data Science Tools and Ecosystem are summarized."
   ]
  },
  {
   "cell_type": "markdown",
   "id": "61d29140",
   "metadata": {},
   "source": [
    "**Objectives**:\n",
    "- List of popular languages data scientist use\n",
    "- List of popular libraries data scientist use\n",
    "- List of popular data science tools\n",
    "- Evaluating arithmetic expression"
   ]
  },
  {
   "cell_type": "markdown",
   "id": "0a8a3ad1",
   "metadata": {},
   "source": [
    "## Author \n",
    "\n",
    "John Ben"
   ]
  },
  {
   "cell_type": "markdown",
   "id": "c6918315",
   "metadata": {},
   "source": [
    "#Some of the popular languages that Data Scientists use are:"
   ]
  },
  {
   "cell_type": "markdown",
   "id": "d85d5fbe",
   "metadata": {},
   "source": [
    " 1. Python\n",
    " 1. R\n",
    " 1. SQL\n"
   ]
  },
  {
   "cell_type": "markdown",
   "id": "4292f9ac",
   "metadata": {},
   "source": [
    "Some of the commonly used libraries used by Data Scientists include:"
   ]
  },
  {
   "cell_type": "markdown",
   "id": "d9a17d01",
   "metadata": {},
   "source": [
    "1. Python Library\n",
    "1. R Library\n",
    "1. SQL Library"
   ]
  },
  {
   "cell_type": "markdown",
   "id": "27687170",
   "metadata": {},
   "source": [
    "| Data Science Tools |\n",
    "|--------------------|\n",
    "| Jupyter Notebook   |\n",
    "| RStudio            |\n",
    "| Github   |"
   ]
  },
  {
   "cell_type": "markdown",
   "id": "8203d6da",
   "metadata": {},
   "source": [
    "### Below are a few examples of evaluating arithmetic expressions in Python"
   ]
  },
  {
   "cell_type": "code",
   "execution_count": 8,
   "id": "c07b6010",
   "metadata": {},
   "outputs": [
    {
     "data": {
      "text/plain": [
       "17"
      ]
     },
     "execution_count": 8,
     "metadata": {},
     "output_type": "execute_result"
    }
   ],
   "source": [
    "(3*4)+5\n",
    "# This a simple arithmetic expression to mutiply then add integers"
   ]
  },
  {
   "cell_type": "code",
   "execution_count": 9,
   "id": "8ef8ba59",
   "metadata": {},
   "outputs": [
    {
     "data": {
      "text/plain": [
       "3.3333333333333335"
      ]
     },
     "execution_count": 9,
     "metadata": {},
     "output_type": "execute_result"
    }
   ],
   "source": [
    "200/60\n",
    "#his will convert 200 minutes to hours by diving by 60"
   ]
  },
  {
   "cell_type": "code",
   "execution_count": null,
   "id": "f37a5e93",
   "metadata": {},
   "outputs": [],
   "source": []
  }
 ],
 "metadata": {
  "kernelspec": {
   "display_name": "Python 3 (ipykernel)",
   "language": "python",
   "name": "python3"
  },
  "language_info": {
   "codemirror_mode": {
    "name": "ipython",
    "version": 3
   },
   "file_extension": ".py",
   "mimetype": "text/x-python",
   "name": "python",
   "nbconvert_exporter": "python",
   "pygments_lexer": "ipython3",
   "version": "3.10.9"
  }
 },
 "nbformat": 4,
 "nbformat_minor": 5
}
